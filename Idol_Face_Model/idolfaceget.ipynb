{
 "cells": [
  {
   "cell_type": "code",
   "execution_count": 2,
   "metadata": {},
   "outputs": [
    {
     "data": {
      "text/plain": "['images (1).jpg',\n 'images (10).jpg',\n 'images (11).jpg',\n 'images (12).jpg',\n 'images (13).jpg']"
     },
     "execution_count": 2,
     "metadata": {},
     "output_type": "execute_result"
    }
   ],
   "source": [
    "import os\r\n",
    "os.listdir('idolimg/idol1')[:5]"
   ]
  },
  {
   "cell_type": "code",
   "execution_count": 3,
   "metadata": {},
   "outputs": [],
   "source": [
    "from PIL import Image\r\n",
    "img = Image.open('idolimg/idol1/images (1).jpg')"
   ]
  },
  {
   "cell_type": "code",
   "execution_count": 4,
   "metadata": {},
   "outputs": [
    {
     "data": {
      "text/plain": "(190, 266, 3)"
     },
     "execution_count": 4,
     "metadata": {},
     "output_type": "execute_result"
    }
   ],
   "source": [
    "import cv2 as cv\r\n",
    "imgary = cv.imread('idolimg/idol1/images (1).jpg')\r\n",
    "\r\n",
    "imgary.shape"
   ]
  },
  {
   "cell_type": "code",
   "execution_count": 14,
   "metadata": {},
   "outputs": [],
   "source": [
    "face_classifier = cv.CascadeClassifier(cv.data.haarcascades + \"haarcascade_frontalface_default.xml\")"
   ]
  },
  {
   "cell_type": "code",
   "execution_count": 17,
   "metadata": {},
   "outputs": [
    {
     "data": {
      "text/plain": "array([[86, 40, 97, 97]], dtype=int32)"
     },
     "execution_count": 17,
     "metadata": {},
     "output_type": "execute_result"
    }
   ],
   "source": [
    "faces = face_classifier.detectMultiScale(imgary, scaleFactor=1.3, minNeighbors=5)\r\n",
    "faces"
   ]
  },
  {
   "cell_type": "code",
   "execution_count": 18,
   "metadata": {},
   "outputs": [
    {
     "name": "stdout",
     "output_type": "stream",
     "text": [
      "86\n"
     ]
    }
   ],
   "source": [
    "x, y, w, h = faces[0]\r\n",
    "print(x)"
   ]
  },
  {
   "cell_type": "code",
   "execution_count": 19,
   "metadata": {},
   "outputs": [
    {
     "data": {
      "image/png": "[encoded data removed]",
      "text/plain": "<PIL.Image.Image image mode=RGB size=64x64 at 0x242FB96A3D0>"
     },
     "execution_count": 19,
     "metadata": {},
     "output_type": "execute_result"
    }
   ],
   "source": [
    "crpim = img.crop((x, y, x+w, y+h)).resize((64,64))\r\n",
    "crpim"
   ]
  },
  {
   "cell_type": "code",
   "execution_count": null,
   "metadata": {},
   "outputs": [],
   "source": [
    "import os\r\n",
    "\r\n",
    "for fname in os.listdir('idolimg/idol1'):\r\n",
    "    print('idolimg/idol1/'+ fname)"
   ]
  },
  {
   "cell_type": "markdown",
   "metadata": {},
   "source": [
    "# 完整程式"
   ]
  },
  {
   "cell_type": "code",
   "execution_count": 6,
   "metadata": {},
   "outputs": [],
   "source": [
    "import os \r\n",
    "from PIL import Image\r\n",
    "import cv2\r\n",
    "\r\n",
    "os.mkdir('idolimg/idol3_face/')\r\n",
    "srcpath = 'idolimg/idol3/'\r\n",
    "dstpath = 'idolimg/idol3_face/'\r\n",
    "\r\n",
    "face_cascade = cv2.CascadeClassifier(cv2.data.haarcascades + \"haarcascade_frontalface_default.xml\")\r\n",
    "\r\n",
    "for i, fname in enumerate(os.listdir(srcpath)):\r\n",
    "    img = Image.open(srcpath+fname)\r\n",
    "    imgary = cv2.imread(srcpath+fname)\r\n",
    "    faces = face_cascade.detectMultiScale(imgary, scaleFactor=1.3, minNeighbors=5)\r\n",
    "\r\n",
    "    if len(faces) == 1:\r\n",
    "        x, y, w, h = faces[0]\r\n",
    "        crpim = img.crop((x, y, x+w, y+h)).resize((64,64))\r\n",
    "        crpim.save(dstpath+str(i)+'.jpg')\r\n"
   ]
  }
 ],
 "metadata": {
  "kernelspec": {
   "display_name": "Python 3.8.8 64-bit",
   "name": "python388jvsc74a57bd0e9e6adcb25460e4998fc6026de387571d5c247dcae94a50d2d71dc748793017f"
  },
  "language_info": {
   "codemirror_mode": {
    "name": "ipython",
    "version": 3
   },
   "file_extension": ".py",
   "mimetype": "text/x-python",
   "name": "python",
   "nbconvert_exporter": "python",
   "pygments_lexer": "ipython3",
   "version": "3.8.8"
  },
  "metadata": {
   "interpreter": {
    "hash": "e9e6adcb25460e4998fc6026de387571d5c247dcae94a50d2d71dc748793017f"
   }
  },
  "orig_nbformat": 2
 },
 "nbformat": 4,
 "nbformat_minor": 2
}